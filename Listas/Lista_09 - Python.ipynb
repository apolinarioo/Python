{
 "cells": [
  {
   "cell_type": "markdown",
   "metadata": {
    "collapsed": true
   },
   "source": [
    "### Lista_09\n",
    "**Nome**: Marcelo Apolinario <br>\n",
    "**RA**: 816253655"
   ]
  },
  {
   "cell_type": "markdown",
   "metadata": {},
   "source": [
    "1. Faça um Programa que peça o raio de um círculo, calcule e mostre sua área. "
   ]
  },
  {
   "cell_type": "code",
   "execution_count": 1,
   "metadata": {},
   "outputs": [
    {
     "name": "stdout",
     "output_type": "stream",
     "text": [
      "Digite o raio do círculo: 1\n",
      "A área do círculo é: 3.14\n"
     ]
    }
   ],
   "source": [
    "raio = float(input(\"Informe o raio do círculo: \"))\n",
    "x = raio * raio\n",
    "area = 3.14159265 * x\n",
    "print(\"\\nO círculo tem uma área de:\", area)"
   ]
  },
  {
   "cell_type": "markdown",
   "metadata": {},
   "source": [
    "2.  Faça um Programa que calcule a área de um quadrado, em seguida mostre o dobro desta área para o usuário. "
   ]
  },
  {
   "cell_type": "code",
   "execution_count": 2,
   "metadata": {},
   "outputs": [
    {
     "name": "stdout",
     "output_type": "stream",
     "text": [
      "Informe o tamanho do quadrado: 2\n",
      "\n",
      "A área do quadrado é: 4.0\n",
      "\n",
      "Dobro desta área: 8.0\n"
     ]
    }
   ],
   "source": [
    "area = float(input(\"Informe o tamanho do quadrado: \"))\n",
    "print(\"\\nA área do quadrado é:\", area * area)\n",
    "area *= 2\n",
    "print(\"\\nDobro desta área:\", area * 2)"
   ]
  },
  {
   "cell_type": "markdown",
   "metadata": {},
   "source": [
    "3. Faça um Programa que pergunte quanto você ganha por hora e o número de horas trabalhadas no mês. Calcule e mostre o total do seu salário no referido mês."
   ]
  },
  {
   "cell_type": "code",
   "execution_count": 3,
   "metadata": {},
   "outputs": [
    {
     "name": "stdout",
     "output_type": "stream",
     "text": [
      "Quanto você ganha por hora?\n",
      "10\n",
      "\n",
      "Quantas horas você trabalha todo mês?\n",
      "150\n",
      "\n",
      "No mês corrente seu sálario é:\n",
      " 1500.0\n"
     ]
    }
   ],
   "source": [
    "hora = float(input(\"Quanto você ganha por hora?\\n\"))\n",
    "mes = float(input(\"\\nQuantas horas você trabalha todo mês?\\n\"))\n",
    "x= hora * mes\n",
    "print(\"\\nNo mês corrente seu sálario é:\\n\", x)"
   ]
  },
  {
   "cell_type": "markdown",
   "metadata": {},
   "source": [
    "4 Faça um Programa que peça a temperatura em graus Farenheit, transforme e mostre a temperatura em graus Celsius. C = (5 * (F-32) / 9)."
   ]
  },
  {
   "cell_type": "code",
   "execution_count": 4,
   "metadata": {},
   "outputs": [
    {
     "name": "stdout",
     "output_type": "stream",
     "text": [
      "Ttemperatura atual em Farenheit?\n",
      "90\n",
      "\n",
      "Celsius:\n",
      " 32.22222222222222\n"
     ]
    }
   ],
   "source": [
    "farenheit = float(input(\"Ttemperatura atual em Farenheit?\\n\"))\n",
    "print(\"\\nCelsius:\\n\", (5 * (farenheit - 32) / 9))"
   ]
  },
  {
   "cell_type": "markdown",
   "metadata": {},
   "source": [
    "5 Faça um Programa que peça a temperatura em graus Celsius, transforme e mostre em graus Farenheit. "
   ]
  },
  {
   "cell_type": "code",
   "execution_count": 5,
   "metadata": {},
   "outputs": [
    {
     "name": "stdout",
     "output_type": "stream",
     "text": [
      "Temperatura atual em Celsius?\n",
      "32\n",
      "\n",
      "Farenheit:\n",
      " 89.6\n"
     ]
    }
   ],
   "source": [
    "celsius = float(input(\"Temperatura atual em Celsius?\\n\"))\n",
    "print(\"\\nFarenheit:\\n\", (celsius * 9 / 5 + 32))"
   ]
  },
  {
   "cell_type": "markdown",
   "metadata": {},
   "source": [
    "6 Faça um Programa que peça 2 números inteiros e um número real. Calcule e mostre:\n",
    "<br>\n",
    "- o produto do dobro do primeiro com metade do segundo . \n",
    "- a soma do triplo do primeiro com o terceiro. \n",
    "- o terceiro elevado ao cubo. "
   ]
  },
  {
   "cell_type": "code",
   "execution_count": 7,
   "metadata": {},
   "outputs": [
    {
     "name": "stdout",
     "output_type": "stream",
     "text": [
      "Digite o primeiro número inteiro: 15\n",
      "Digite o segundo número inteiro: 20\n",
      "Digite o primeiro número real: 1\n",
      "O produto do dobro do primeiro com metade do segundo é: 235.0\n",
      "A soma do triplo do primeiro com o terceiro é: 46.0\n",
      "O terceiro elevado ao cubo é: 1.0\n"
     ]
    }
   ],
   "source": [
    "n1 = int(input(\"\\n\" + \"Informe um número inteiro: \"))\n",
    "n2 = int(input(\"\\n\" + \"Informe um número inteiro: \"))\n",
    "n3 = float(input(\"\\n\" + \"Informe o numero real: \"))\n",
    "\n",
    "x = n1 * 2 * n2/2\n",
    "y = n1 * 3 + n3\n",
    "z = n3 ** 3\n",
    "\n",
    "print(x)\n",
    "print(y)\n",
    "print(z)"
   ]
  },
  {
   "cell_type": "markdown",
   "metadata": {},
   "source": [
    "7 João Papo-de-Pescador, homem de bem, comprou um microcomputador para controlar o rendimento diário de seu trabalho. Toda vez que ele traz um peso de peixes maior que o estabelecido pelo regulamento de pesca do estado de São Paulo (50 quilos) deve pagar uma multa de R$ 4,00 por quilo excedente. João precisa que você faça um programa que leia a variável peso (peso de peixes) e verifique se há excesso. Se houver, gravar na variável excesso e na variável multa o valor da multa que João deverá pagar. Caso contrário mostrar tais variáveis com o conteúdo ZERO. "
   ]
  },
  {
   "cell_type": "code",
   "execution_count": 8,
   "metadata": {},
   "outputs": [
    {
     "name": "stdout",
     "output_type": "stream",
     "text": [
      "Informe o peso dos peixes: 15\n",
      "Peso regulamentado dentro estabelecido\n"
     ]
    }
   ],
   "source": [
    "peso = float(input(\"Informe o peso dos peixes: \"))\n",
    "regulamento = 50.0\n",
    "excesso = peso - regulamento\n",
    "multa = 4.00 * excesso\n",
    "if(peso > regulamento):\n",
    "    print(\"O seu peso está acima do limite do regulamento, e sua multa é de:\", multa, \"reias\")\n",
    "else:\n",
    "    print(\"Peso regulamentado dentro estabelecido\")"
   ]
  },
  {
   "cell_type": "markdown",
   "metadata": {
    "collapsed": true
   },
   "source": [
    "8 Faça um Programa que pergunte quanto você ganha por hora e o número de horas trabalhadas no mês. Calcule e mostre o total do seu salário no referido mês, sabendo-se que são descontados 11% para o Imposto de Renda, 8% para o INSS e 5%para o sindicato, faça um programa que nos dê:\n",
    "- salário bruto.\n",
    "- quanto pagou ao INSS.\n",
    "- quanto pagou ao sindicato.\n",
    "- o salário líquido.\n",
    "- calcule os descontos e o salário líquido, conforme a tabela abaixo:\n",
    "- Salário Bruto : \n",
    "- IR (11%) : \n",
    "- INSS (8%) : \n",
    "- Sindicato ( 5%) : \n",
    "- Salário Liquido : \n",
    "- Obs.: Salário Bruto - Descontos = Salário Líquido."
   ]
  },
  {
   "cell_type": "code",
   "execution_count": 6,
   "metadata": {},
   "outputs": [
    {
     "name": "stdout",
     "output_type": "stream",
     "text": [
      "Digite o quanto você ganha por hora: 9\n",
      "Digite o quanta horas você trabalha no mês: 120\n",
      "Salário Bruto: 1080.0 reais por mês\n",
      "Você pagou: 86.4 reais de INSS\n",
      "Você pagou: 54.0 reais ao Sindicato\n",
      "\n",
      "*Tabela*\n",
      "\n",
      "-Salário Bruto: 1080.0 reais por mês\n",
      "-IR: 118.8 reais por mês\n",
      "-INSS: 86.4 reais por mês\n",
      "-Sindicato: 54.0 reais por mês\n",
      "-Salário Líquido: 820.8 reais por mês\n"
     ]
    }
   ],
   "source": [
    "hora = float(input(\"Digite o quanto você ganha por hora: \"))\n",
    "mes = float(input(\"Digite o quanta horas você trabalha no mês: \"))\n",
    "bruto = hora * mes\n",
    "inss = 8 / 100 * bruto\n",
    "sindicato = 5 / 100 * bruto\n",
    "ir = 11 / 100 * bruto\n",
    "print(\"Salário Bruto:\", bruto, \"reais por mês\")\n",
    "print(\"Você pagou:\", inss, \"reais de INSS\")\n",
    "print(\"Você pagou:\", sindicato, \"reais ao Sindicato\")\n",
    "print(\"\\n*Tabela*\\n\")\n",
    "print(\"-Salário Bruto:\", bruto, \"reais por mês\")\n",
    "print(\"-IR:\", ir, \"reais por mês\")\n",
    "print(\"-INSS:\", inss, \"reais por mês\")\n",
    "print(\"-Sindicato:\", sindicato, \"reais por mês\")\n",
    "print(\"-Salário Líquido:\", bruto - (inss + sindicato + ir), \"reais por mês\")"
   ]
  },
  {
   "cell_type": "markdown",
   "metadata": {},
   "source": [
    "9 Faça um programa que leia 2 strings e informe o conteúdo delas seguido do seu comprimento. Informe também se as duas strings possuem o mesmo comprimento e são iguais ou diferentes no conteúdo. Exemplo: String 1: Brasil Hexa 2018 String 2: Brasil! Hexa 2018! Tamanho de \"Brasil Hexa 2018\": 16 caracteres Tamanho de \"Brasil! Hexa 2018!\": 18 caracteres As duas strings são de tamanhos diferentes. As duas strings possuem conteúdo diferente."
   ]
  },
  {
   "cell_type": "code",
   "execution_count": 7,
   "metadata": {},
   "outputs": [
    {
     "name": "stdout",
     "output_type": "stream",
     "text": [
      "Digite a primeira palavra/frase: arroz\n",
      "Digite a segunda palavra/frase: feijão\n",
      "O comprimento das Strings é diferente 5 | 6\n",
      "As strings tem conteúdos opostos arroz | feijão\n"
     ]
    }
   ],
   "source": [
    "string1 = input(\"Digite a primeira palavra/frase: \")\n",
    "string2 = input(\"Digite a segunda palavra/frase: \")\n",
    "len(string1)\n",
    "len(string2)\n",
    "var1 = string1\n",
    "var2 = string2\n",
    "if(len(string1) == len(string2)):\n",
    "    print(\"O tamanho das Strings são idênticos: \",len(string1),\"&\", len(string2))    \n",
    "    if(var1 == var2):\n",
    "        print(\"Há o mesmo conteúdo nas Strings: \",var1,\"&\", var2)\n",
    "else:\n",
    "    print(\"O comprimento das Strings é diferente\",len(string1),\"|\", len(string2))\n",
    "    if(var1 != var2):\n",
    "        print(\"As strings tem conteúdos opostos\",var1,\"|\",var2)"
   ]
  },
  {
   "cell_type": "markdown",
   "metadata": {},
   "source": [
    "10 Faça um programa que permita ao usuário digitar o seu nome e em seguida mostre o nome do usuário de trás para frente utilizando somente letras maiúsculas. Dica: lembre−se que ao informar o nome o usuário pode digitar letras maiúsculas ou minúsculas. Observação: não use loops."
   ]
  },
  {
   "cell_type": "code",
   "execution_count": 9,
   "metadata": {},
   "outputs": [
    {
     "name": "stdout",
     "output_type": "stream",
     "text": [
      "Digite seu nome, seja maiúsculo ou minúsculo: MARCELO\n"
     ]
    },
    {
     "data": {
      "text/plain": [
       "'OLECRAM'"
      ]
     },
     "execution_count": 9,
     "metadata": {},
     "output_type": "execute_result"
    }
   ],
   "source": [
    "nome = input(\"Digite seu nome, seja maiúsculo ou minúsculo: \")\n",
    "n = nome.upper()\n",
    "n[::-1]"
   ]
  },
  {
   "cell_type": "markdown",
   "metadata": {},
   "source": [
    "11 Faça um programa que solicite a data de nascimento (dd/mm/aaaa) do usuário eimprima a data com o nome do mês por extenso. Data de Nascimento: 29/10/1973 Você nasceu em 29 de Outubro de 1973. Obs.: Não use desvio condicional nem loops."
   ]
  },
  {
   "cell_type": "code",
   "execution_count": 10,
   "metadata": {},
   "outputs": [
    {
     "name": "stdout",
     "output_type": "stream",
     "text": [
      "informe o dia do nascimento: 28\n",
      "informe o mês do nascimento: 01\n",
      "informe o ano do nascimento: 1998\n",
      "\n",
      "Sua data de nascimento: 28/01/1998 \n",
      "Você nasceu em: 28 de Janeiro de 1998\n"
     ]
    }
   ],
   "source": [
    "listaMeses = {1: 'Janeiro', 2: 'Fevereiro', 3: 'Março', 4: 'Abril', 5: 'Maio', 6: 'Junho', 7: 'Julho', 8: 'Agosto', 9: 'Setembro', 10: 'Outubro', 11: 'Novembro', 12: 'Dezembro'}\n",
    "dia = input(\"informe o dia do nascimento: \")\n",
    "mes = input(\"informe o mês do nascimento: \")\n",
    "ano = input(\"informe o ano do nascimento: \")\n",
    "dataNascimento = dia, mes, ano\n",
    "dt = print (\"\\nSua data de nascimento: %s/%s/%s\" % (dia, mes, ano), \"\\nVocê nasceu em: %s\" %(dia), \"de %s\" %(listaMeses[int(mes)]), \"de %s\" %(ano))"
   ]
  },
  {
   "cell_type": "markdown",
   "metadata": {},
   "source": [
    "12 Leet é uma forma de se escrever o alfabeto latino usando outros símbolos em lugar das letras, como números por exemplo. A própria palavra leet admite muitas variações, como l33t ou 1337. O uso do leet reflete uma subcultura relacionada ao mundo dos jogos de computador e internet, sendo muito usada para confundir os iniciantes e afirmar-se como parte de um grupo. Pesquise sobre as principais formas de traduzir as letras. Depois, faça um programa que peça uma texto e transforme-o para a grafia leet speak."
   ]
  },
  {
   "cell_type": "code",
   "execution_count": 12,
   "metadata": {},
   "outputs": [
    {
     "name": "stdout",
     "output_type": "stream",
     "text": [
      "Leet Speak:  py7h0n é m|_||70 13641!\n",
      "tradução: Python é muito legal!\n"
     ]
    }
   ],
   "source": [
    "msg = \"Python é muito legal!\"\n",
    "recebemsg = msg.lower()\n",
    "\n",
    "recebemsg = recebemsg.replace('a', str(4))\n",
    "recebemsg = recebemsg.replace('e', str(3))\n",
    "recebemsg = recebemsg.replace('o', str(0))\n",
    "recebemsg = recebemsg.replace('g', str(6))\n",
    "recebemsg = recebemsg.replace('i', '|')\n",
    "recebemsg = recebemsg.replace('j', str(9))\n",
    "recebemsg = recebemsg.replace('l', str(1))\n",
    "recebemsg = recebemsg.replace('s', str(5))\n",
    "recebemsg = recebemsg.replace('t', str(7))\n",
    "recebemsg = recebemsg.replace('u', '|_|')\n",
    "recebemsg = recebemsg.replace('z', str(2))\n",
    "\n",
    "print (\"Leet Speak: \", recebemsg)\n",
    "print (\"tradução:\", msg)"
   ]
  },
  {
   "cell_type": "markdown",
   "metadata": {},
   "source": [
    "13 Crie um programa que recebe uma lista de números e\n",
    "- retorne o maior elemento\n",
    "- retorne a soma dos elementos\n",
    "- retorne o número de ocorrências do primeiro elemento da lista\n",
    "- retorne a média dos elementos\n",
    "- retorne o valor mais próximo da média dos elementos\n",
    "- retorne a soma dos elementos com valor negativo\n",
    "- retorne a quantidade de vizinhos iguais"
   ]
  },
  {
   "cell_type": "code",
   "execution_count": 16,
   "metadata": {},
   "outputs": [
    {
     "name": "stdout",
     "output_type": "stream",
     "text": [
      "O Maior elemento é:  9\n",
      "A soma dos elementos é:  45\n",
      "O número de ocorrências do primeiro elemento é:  1\n",
      "A média dos elementos é:  4.5\n"
     ]
    }
   ],
   "source": [
    "lista = [1,2,3,4,5,6,7,8,9,0]\n",
    "media = sum(lista)/len(lista)\n",
    "print('O Maior elemento é: ',max(lista))\n",
    "print('A soma dos elementos é: ',sum(lista))\n",
    "print('O número de ocorrências do primeiro elemento é: ', lista.count(lista[0]))\n",
    "print('A média dos elementos é: ', media)"
   ]
  },
  {
   "cell_type": "markdown",
   "metadata": {},
   "source": [
    "14 Faça um programa que receba duas listas e retorne True se são iguais ou False caso contrario. Duas listas são iguais se possuem os mesmos valores e na mesma ordem."
   ]
  },
  {
   "cell_type": "code",
   "execution_count": 17,
   "metadata": {},
   "outputs": [
    {
     "data": {
      "text/plain": [
       "False"
      ]
     },
     "execution_count": 17,
     "metadata": {},
     "output_type": "execute_result"
    }
   ],
   "source": [
    "l1 = [1,2,3,4,5]\n",
    "l2 = [1,2,3,5,5]\n",
    "l1[:len(l1)] == l2[:len(l2)]"
   ]
  },
  {
   "cell_type": "markdown",
   "metadata": {},
   "source": [
    "15 Faça um programa que receba duas listas e retorne True se têm os mesmos elementos ou False caso contrário Duas listas possuem os mesmos elementos quando são compostas pelos mesmos valores, mas não obrigatoriamente na mesma ordem."
   ]
  },
  {
   "cell_type": "code",
   "execution_count": 18,
   "metadata": {},
   "outputs": [
    {
     "data": {
      "text/plain": [
       "True"
      ]
     },
     "execution_count": 18,
     "metadata": {},
     "output_type": "execute_result"
    }
   ],
   "source": [
    "l1 = [1,2,3,4]\n",
    "l2 = [4,3,2,1]\n",
    "set(l1) == set(l2)"
   ]
  },
  {
   "cell_type": "markdown",
   "metadata": {},
   "source": [
    "16 Faça um programa que percorre uma lista com o seguinte formato: [['Brasil', 'Italia', [10, 9]], ['Brasil', 'Espanha', [5, 7]], ['Italia', 'Espanha', [7,8]]]. Essa lista indica o número de faltas que cada time fez em cada jogo. Na lista acima, no jogo entre Brasil e Itália, o Brasil fez 10 faltas e a Itália fez 9.\n",
    "O programa deve imprimir na tela:\n",
    "- o total de faltas do campeonato\n",
    "- o time que fez mais faltas\n",
    "- o time que fez menos faltas"
   ]
  },
  {
   "cell_type": "code",
   "execution_count": 19,
   "metadata": {},
   "outputs": [
    {
     "name": "stdout",
     "output_type": "stream",
     "text": [
      "Total de faltas: 46\n",
      "País mais faltoso: ['Italia', 16]\n",
      "País menos faltoso: ['Brasil', 15]\n"
     ]
    }
   ],
   "source": [
    "faltas = [['Brasil', 'Italia' ,[10,9]],\n",
    "          ['Brasil', 'Espanha',[5,7]],\n",
    "          ['Italia', 'Espanha',[7,8]]]\n",
    "print('Total de faltas:', faltas[0][2][0]+faltas[0][2][1]+\n",
    "faltas[1][2][0]+faltas[1][2][1]+\n",
    "faltas[2][2][0]+faltas[2][2][1])\n",
    "pais = [['Brasil',faltas[0][2][0]+faltas[1][2][0]],\n",
    "        ['Italia',faltas[0][2][1]+faltas[2][2][0]],\n",
    "        ['Espanha', faltas[1][2][1]+faltas[2][2][1]]]\n",
    "print('País mais faltoso:', max(pais))\n",
    "print('País menos faltoso:', min(pais))"
   ]
  },
  {
   "cell_type": "markdown",
   "metadata": {},
   "source": [
    "17 Escreva um programa que conta a quantidade de vogais em uma string e armazena tal quantidade em um dicionário, onde a chave é a vogal considerada.\n"
   ]
  },
  {
   "cell_type": "code",
   "execution_count": 21,
   "metadata": {},
   "outputs": [
    {
     "name": "stdout",
     "output_type": "stream",
     "text": [
      "{'a': 1, 'e': 1, 'i': 1, 'o': 2, 'u': 1}\n"
     ]
    }
   ],
   "source": [
    "s = 'Python é muito legal!'\n",
    "vogais = ['a', 'e', 'i', 'o', 'u']\n",
    "totais = {vogais[0]: s.count(vogais[0]),\n",
    "          vogais[1]: s.count(vogais[1]),\n",
    "          vogais[2]: s.count(vogais[2]),\n",
    "          vogais[3]: s.count(vogais[3]),\n",
    "          vogais[4]: s.count(vogais[4])}\n",
    "print(totais)"
   ]
  },
  {
   "cell_type": "markdown",
   "metadata": {},
   "source": [
    "18 Escreva um programa que lê̂ duas notas de vários alunos e armazena tais notas em um dicionário, onde a chave é o nome do aluno. A entrada de dados deve terminar quando for lida uma string vazia com o nome. Escreva uma função que retorna a média do aluno, dado seu nome."
   ]
  },
  {
   "cell_type": "code",
   "execution_count": 20,
   "metadata": {},
   "outputs": [
    {
     "name": "stdout",
     "output_type": "stream",
     "text": [
      "Digite o nome do aluno: 9\n"
     ]
    },
    {
     "ename": "TypeError",
     "evalue": "'NoneType' object is not subscriptable",
     "output_type": "error",
     "traceback": [
      "\u001b[0;31m---------------------------------------------------------------------------\u001b[0m",
      "\u001b[0;31mTypeError\u001b[0m                                 Traceback (most recent call last)",
      "\u001b[0;32m<ipython-input-20-845ce409db9a>\u001b[0m in \u001b[0;36m<module>\u001b[0;34m\u001b[0m\n\u001b[1;32m      1\u001b[0m \u001b[0mnotas\u001b[0m \u001b[0;34m=\u001b[0m \u001b[0;34m{\u001b[0m\u001b[0;34m\"Amanda\"\u001b[0m\u001b[0;34m:\u001b[0m\u001b[0;34m[\u001b[0m\u001b[0;36m10.0\u001b[0m\u001b[0;34m,\u001b[0m\u001b[0;36m9.8\u001b[0m\u001b[0;34m]\u001b[0m\u001b[0;34m,\u001b[0m \u001b[0;34m\"José\"\u001b[0m\u001b[0;34m:\u001b[0m\u001b[0;34m[\u001b[0m\u001b[0;36m9.0\u001b[0m\u001b[0;34m,\u001b[0m\u001b[0;36m5.8\u001b[0m\u001b[0;34m]\u001b[0m\u001b[0;34m}\u001b[0m\u001b[0;34m\u001b[0m\u001b[0;34m\u001b[0m\u001b[0m\n\u001b[1;32m      2\u001b[0m \u001b[0maluno\u001b[0m \u001b[0;34m=\u001b[0m \u001b[0mnotas\u001b[0m\u001b[0;34m.\u001b[0m\u001b[0mget\u001b[0m\u001b[0;34m(\u001b[0m\u001b[0minput\u001b[0m\u001b[0;34m(\u001b[0m\u001b[0;34m\"Digite o nome do aluno: \"\u001b[0m\u001b[0;34m)\u001b[0m\u001b[0;34m)\u001b[0m\u001b[0;34m\u001b[0m\u001b[0;34m\u001b[0m\u001b[0m\n\u001b[0;32m----> 3\u001b[0;31m \u001b[0mnota\u001b[0m \u001b[0;34m=\u001b[0m \u001b[0mfloat\u001b[0m\u001b[0;34m(\u001b[0m\u001b[0;34m(\u001b[0m\u001b[0maluno\u001b[0m\u001b[0;34m[\u001b[0m\u001b[0;36m0\u001b[0m\u001b[0;34m]\u001b[0m \u001b[0;34m+\u001b[0m \u001b[0maluno\u001b[0m\u001b[0;34m[\u001b[0m\u001b[0;36m1\u001b[0m\u001b[0;34m]\u001b[0m\u001b[0;34m)\u001b[0m\u001b[0;34m/\u001b[0m\u001b[0;36m2\u001b[0m\u001b[0;34m)\u001b[0m\u001b[0;34m\u001b[0m\u001b[0;34m\u001b[0m\u001b[0m\n\u001b[0m\u001b[1;32m      4\u001b[0m \u001b[0;34m\u001b[0m\u001b[0m\n\u001b[1;32m      5\u001b[0m \u001b[0mprint\u001b[0m\u001b[0;34m(\u001b[0m\u001b[0;34m\"A média do aluno é %.2f\"\u001b[0m \u001b[0;34m%\u001b[0m \u001b[0mnota\u001b[0m\u001b[0;34m)\u001b[0m\u001b[0;34m\u001b[0m\u001b[0;34m\u001b[0m\u001b[0m\n",
      "\u001b[0;31mTypeError\u001b[0m: 'NoneType' object is not subscriptable"
     ]
    }
   ],
   "source": [
    "notas = {\"Amanda\":[10.0,9.8], \"José\":[9.0,5.8]}\n",
    "aluno = notas.get(input(\"Digite o nome do aluno: \"))\n",
    "nota = float((aluno[0] + aluno[1])/2)\n",
    "\n",
    "print(\"A média do aluno é %.2f\" % nota)"
   ]
  },
  {
   "cell_type": "markdown",
   "metadata": {},
   "source": [
    "19 Uma pista de Kart permite 10 voltas para cada um de 6 corredores. Escreva um programa que leia todos os tempos em segundos e os guarde em um dicionário, onde a chave é o nome do corredor. Ao final diga de quem foi a melhor volta da prova e em que volta; e ainda a classificação final em ordem (1° o campeão). O campeão é o que tem a menor média de tempos."
   ]
  },
  {
   "cell_type": "code",
   "execution_count": 26,
   "metadata": {},
   "outputs": [
    {
     "name": "stdout",
     "output_type": "stream",
     "text": [
      "Campeão: ['Apolinário!', '10']\n"
     ]
    }
   ],
   "source": [
    "nome = \"Apolinário!\"\n",
    "kart = [nome]\n",
    "tempo = \"10\"\n",
    "kart.append(tempo)\n",
    "print(\"Campeão:\", kart)"
   ]
  },
  {
   "cell_type": "markdown",
   "metadata": {},
   "source": [
    "20 Escreva um programa para armazenar uma agenda de telefones em um dicionário. Cada pessoa pode ter um ou mais telefones e a chave do dicionário é o nome da pessoa. Seu programa deve ter as seguintes funções:\n",
    "<br><br>\n",
    "- incluirNovoNome – essa função acrescenta um novo nome na agenda, com um ou mais telefones. Ela deve receber como argumentos o nome e os telefones.\n",
    "- incluirTelefone – essa função acrescenta um telefone em um nome existente na agenda. Caso o nome não exista na agenda, você̂deve perguntar se a pessoa deseja inclui-lo. Caso a resposta seja afirmativa, use a função anterior para incluir o novo nome. \n",
    "- excluirTelefone – essa função exclui um telefone de uma pessoa que já está na agenda. Se a pessoa tiver apenas um telefone, ela deve ser excluída da agenda.\n",
    "- excluirNome – essa função exclui uma pessoa da agenda.\n",
    "- consultarTelefone – essa função retorna os telefones de uma pessoa na agenda."
   ]
  },
  {
   "cell_type": "code",
   "execution_count": 18,
   "metadata": {},
   "outputs": [
    {
     "name": "stdout",
     "output_type": "stream",
     "text": [
      "{'Feijao': 987654321, 'Ane': 975459865}\n"
     ]
    }
   ],
   "source": [
    "nome = {'Arroz': 912563869,'Feijao': 987654321,'Ane': 975459865}\n",
    "n = \"Arroz\"\n",
    "nome.pop(n)\n",
    "print(nome)"
   ]
  },
  {
   "cell_type": "markdown",
   "metadata": {},
   "source": [
    "21 Faça um programa que leia um arquivo texto contendo uma lista de endereços IP e gere um outro arquivo, contendo um relatório dos endereços IP válidos e inválidos. O arquivo de entrada possui o seguinte formato:\n",
    "- 200.135.80.9\n",
    "- 192.168.1.1\n",
    "- 8.35.67.74\n",
    "- 257.32.4.5\n",
    "- 85.345.1.2\n",
    "- 1.2.3.4\n",
    "- 9.8.234.5\n",
    "- 192.168.0.256\n",
    "<br><br>O arquivo de saída possui o seguinte formato:\n",
    "<br><br>[Endereços válidos:]\n",
    "- 200.135.80.9\n",
    "- 192.168.1.1\n",
    "- 8.35.67.74\n",
    "- 1.2.3.4\n",
    "<br><br>[Endereços inválidos:]\n",
    "- 257.32.4.5\n",
    "- 85.345.1.2\n",
    "- 9.8.234.5\n",
    "- 192.168.0.256"
   ]
  },
  {
   "cell_type": "code",
   "execution_count": 5,
   "metadata": {},
   "outputs": [
    {
     "ename": "FileNotFoundError",
     "evalue": "[Errno 2] No such file or directory: 'lista_ip.txt'",
     "output_type": "error",
     "traceback": [
      "\u001b[1;31m---------------------------------------------------------------------------\u001b[0m",
      "\u001b[1;31mFileNotFoundError\u001b[0m                         Traceback (most recent call last)",
      "\u001b[1;32m<ipython-input-5-1f582939a32c>\u001b[0m in \u001b[0;36m<module>\u001b[1;34m\u001b[0m\n\u001b[0;32m      1\u001b[0m \u001b[0mvalido\u001b[0m \u001b[1;33m=\u001b[0m \u001b[0mlist\u001b[0m\u001b[1;33m(\u001b[0m\u001b[1;33m)\u001b[0m\u001b[1;33m\u001b[0m\u001b[1;33m\u001b[0m\u001b[0m\n\u001b[0;32m      2\u001b[0m \u001b[0minvalido\u001b[0m \u001b[1;33m=\u001b[0m \u001b[0mlist\u001b[0m\u001b[1;33m(\u001b[0m\u001b[1;33m)\u001b[0m\u001b[1;33m\u001b[0m\u001b[1;33m\u001b[0m\u001b[0m\n\u001b[1;32m----> 3\u001b[1;33m \u001b[1;32mfor\u001b[0m \u001b[0mip\u001b[0m \u001b[1;32min\u001b[0m \u001b[0mopen\u001b[0m\u001b[1;33m(\u001b[0m\u001b[1;34m'lista_ip.txt'\u001b[0m\u001b[1;33m,\u001b[0m \u001b[1;34m'r'\u001b[0m\u001b[1;33m)\u001b[0m\u001b[1;33m:\u001b[0m\u001b[1;33m\u001b[0m\u001b[1;33m\u001b[0m\u001b[0m\n\u001b[0m\u001b[0;32m      4\u001b[0m     \u001b[0ml_ip\u001b[0m \u001b[1;33m=\u001b[0m \u001b[0mip\u001b[0m\u001b[1;33m.\u001b[0m\u001b[0msplit\u001b[0m\u001b[1;33m(\u001b[0m\u001b[1;34m'.'\u001b[0m\u001b[1;33m)\u001b[0m\u001b[1;33m\u001b[0m\u001b[1;33m\u001b[0m\u001b[0m\n\u001b[0;32m      5\u001b[0m     \u001b[0ml_ip\u001b[0m \u001b[1;33m=\u001b[0m \u001b[0mlist\u001b[0m\u001b[1;33m(\u001b[0m\u001b[0mmap\u001b[0m\u001b[1;33m(\u001b[0m\u001b[0mint\u001b[0m\u001b[1;33m,\u001b[0m\u001b[0ml_ip\u001b[0m\u001b[1;33m)\u001b[0m\u001b[1;33m)\u001b[0m\u001b[1;33m\u001b[0m\u001b[1;33m\u001b[0m\u001b[0m\n",
      "\u001b[1;31mFileNotFoundError\u001b[0m: [Errno 2] No such file or directory: 'lista_ip.txt'"
     ]
    }
   ],
   "source": [
    "valido = list()\n",
    "invalido = list()\n",
    "for ip in open('lista_ip.txt', 'r'):\n",
    "    l_ip = ip.split('.')\n",
    "    l_ip = list(map(int,l_ip))\n",
    "    lb_ip = list(map(lambda i:i >= 0 and i < 255,l_ip))\n",
    "    valido.append(l_ip) if sum(lb_ip) == 4 else invalido.append(l_ip)\n",
    "    \n",
    "print('[Endereços válidos]')\n",
    "for i in valido:\n",
    "    print(f'{i[0]}.{i[1]}.{i[2]}.{i[3]}')\n",
    "print('[Endereços inválidos]')\n",
    "for i in invalido:\n",
    "    print(f'{i[0]}.{i[1]}.{i[2]}.{i[3]}')"
   ]
  },
  {
   "cell_type": "markdown",
   "metadata": {},
   "source": [
    "22 A ACME Inc., uma empresa de 500 funcionários, está tendo problemas de espaço em disco no seu servidor de arquivos. Para tentar resolver este problema, o Administrador de Rede precisa saber qual o espaço ocupado pelos usuários, e identificar os usuários com maior espaço ocupado. Através de um programa, baixado da Internet, ele conseguiu gerar o seguinte arquivo, chamado \"usuarios.txt\":\n",
    "- alexandre 456123789\n",
    "- anderson 1245698456\n",
    "- antonio 123456456\n",
    "- carlos 91257581\n",
    "- cesar 987458\n",
    "- rosemary 789456125\n",
    "<br><br>Neste arquivo, o nome do usuário possui 15 caracteres. A partir deste arquivo, você deve criar um programa que gere um relatório, chamado \"relatório.txt\", no seguinte formato: ACME Inc. Uso do espaço em disco pelos usuários\n",
    "--------------------------------------------------------------\n",
    "----------\n",
    "- Nr. Usuário Espaço utilizado % do uso\n",
    "- 1 alexandre 434,99 MB 16,85%\n",
    "- 2 anderson 1187,99 MB 46,02%\n",
    "- 3 antonio 117,73 MB 4,56%\n",
    "- 4 carlos 87,03 MB 3,37%\n",
    "- 5 cesar 0,94 MB 0,04%\n",
    "- 6 rosemary 752,88 MB 29,16%\n",
    "- Espaço total ocupado: 2581,57 MB\n",
    "- Espaço médio ocupado: 430,26 MB\n",
    "<br><br>O arquivo de entrada deve ser lido uma única vez, e os dados armazenados em memória, caso sejam necessários, de forma a agilizar a execução do programa. A conversão da espaço ocupado em disco, de bytes para megabytes deverá ser feita através de uma função separada, que será chamada pelo programa principal. O cálculo do percentual de uso também deverá ser feito através de uma função, que será chamada pelo programa principal."
   ]
  },
  {
   "cell_type": "code",
   "execution_count": 13,
   "metadata": {},
   "outputs": [
    {
     "name": "stdout",
     "output_type": "stream",
     "text": [
      "Writing relatório.txt\n"
     ]
    }
   ],
   "source": [
    "%%writefile relatório.txt\n",
    "ACME Inc. Uso do espaço em disco pelos usuários\n",
    "--------------------------------------------------------------\n",
    "Nr. Usuário Espaço utilizado % do uso\n",
    "1 alexandre 434,99 MB 16,85%\n",
    "2 anderson 1187,99 MB 46,02%\n",
    "3 antonio 117,73 MB 4,56%\n",
    "4 carlos 87,03 MB 3,37%\n",
    "5 cesar 0,94 MB 0,04%\n",
    "6 rosemary 752,88 MB 29,16%\n",
    "Espaço total ocupado: 2581,57 MB\n",
    "Espaço médio ocupado: 430,26 MB\n",
    "    \n",
    "print(file.read())"
   ]
  },
  {
   "cell_type": "code",
   "execution_count": null,
   "metadata": {},
   "outputs": [],
   "source": []
  }
 ],
 "metadata": {
  "kernelspec": {
   "display_name": "Python 3",
   "language": "python",
   "name": "python3"
  },
  "language_info": {
   "codemirror_mode": {
    "name": "ipython",
    "version": 3
   },
   "file_extension": ".py",
   "mimetype": "text/x-python",
   "name": "python",
   "nbconvert_exporter": "python",
   "pygments_lexer": "ipython3",
   "version": "3.6.7"
  }
 },
 "nbformat": 4,
 "nbformat_minor": 2
}
